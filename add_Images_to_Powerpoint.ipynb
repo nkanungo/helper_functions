{
  "nbformat": 4,
  "nbformat_minor": 0,
  "metadata": {
    "colab": {
      "name": "Untitled9.ipynb",
      "provenance": [],
      "authorship_tag": "ABX9TyNUqVYdO54FjCMI2UjrLddl",
      "include_colab_link": true
    },
    "kernelspec": {
      "name": "python3",
      "display_name": "Python 3"
    },
    "language_info": {
      "name": "python"
    }
  },
  "cells": [
    {
      "cell_type": "markdown",
      "metadata": {
        "id": "view-in-github",
        "colab_type": "text"
      },
      "source": [
        "<a href=\"https://colab.research.google.com/github/nkanungo/helper_functions/blob/main/add_Images_to_Powerpoint.ipynb\" target=\"_parent\"><img src=\"https://colab.research.google.com/assets/colab-badge.svg\" alt=\"Open In Colab\"/></a>"
      ]
    },
    {
      "cell_type": "markdown",
      "metadata": {
        "id": "3ISXrwceOqWa"
      },
      "source": [
        "# This is a helper module to add images to the existing powerpoint slides. "
      ]
    },
    {
      "cell_type": "code",
      "metadata": {
        "colab": {
          "base_uri": "https://localhost:8080/"
        },
        "id": "dAxoKyvoO16w",
        "outputId": "85c42cd3-254e-4d8c-b7b9-7ec1dd70569c"
      },
      "source": [
        "!pip install python-pptx\n"
      ],
      "execution_count": 4,
      "outputs": [
        {
          "output_type": "stream",
          "text": [
            "Collecting python-pptx\n",
            "\u001b[?25l  Downloading https://files.pythonhosted.org/packages/bf/86/eb979f7b0333ec769041aae36df8b9f1bd8bea5bbad44620663890dce561/python-pptx-0.6.18.tar.gz (8.9MB)\n",
            "\u001b[K     |████████████████████████████████| 8.9MB 5.5MB/s \n",
            "\u001b[?25hRequirement already satisfied: lxml>=3.1.0 in /usr/local/lib/python3.7/dist-packages (from python-pptx) (4.2.6)\n",
            "Requirement already satisfied: Pillow>=3.3.2 in /usr/local/lib/python3.7/dist-packages (from python-pptx) (7.1.2)\n",
            "Collecting XlsxWriter>=0.5.7\n",
            "\u001b[?25l  Downloading https://files.pythonhosted.org/packages/9f/65/22746ca0b059aada544681325ff9c3f4f2d80c900165777b23e32f56eff2/XlsxWriter-1.3.9-py2.py3-none-any.whl (145kB)\n",
            "\u001b[K     |████████████████████████████████| 153kB 41.3MB/s \n",
            "\u001b[?25hBuilding wheels for collected packages: python-pptx\n",
            "  Building wheel for python-pptx (setup.py) ... \u001b[?25l\u001b[?25hdone\n",
            "  Created wheel for python-pptx: filename=python_pptx-0.6.18-cp37-none-any.whl size=275704 sha256=e9cfe71d931f4ab3aab2df81784db188e360934abb0adf927356c02c14bfdf1a\n",
            "  Stored in directory: /root/.cache/pip/wheels/1f/1f/2c/29acca422b420a0b5210bd2cd7e9669804520d602d2462f20b\n",
            "Successfully built python-pptx\n",
            "Installing collected packages: XlsxWriter, python-pptx\n",
            "Successfully installed XlsxWriter-1.3.9 python-pptx-0.6.18\n"
          ],
          "name": "stdout"
        }
      ]
    },
    {
      "cell_type": "code",
      "metadata": {
        "id": "4IfpghDtOk5S"
      },
      "source": [
        "# Imports\n",
        "from pptx import Presentation\n",
        "from pptx.util import Inches\n",
        "import os\n",
        "import random\n",
        "from PIL import Image\n",
        "import argparse\n"
      ],
      "execution_count": 5,
      "outputs": []
    },
    {
      "cell_type": "code",
      "metadata": {
        "id": "lbp87FaAOtj7"
      },
      "source": [
        "def open_pp_presentation(inputfile,outputfile,img):\n",
        "    prs = Presentation(inputfile)\n",
        "    print(f'The count of slides in the input file is: {len(prs.slides)}')\n",
        "    for i in range(1, len(prs.slides)):\n",
        "          print(f'Currently working on slide {i} of presentation {inputfile} ')\n",
        "          slide = prs.slides[i]\n",
        "          shapes = slide.shapes\n",
        "          print(f'slide shape is {shapes}')\n",
        "          left = Inches(random.randint(1,5))\n",
        "          top = Inches(random.randint(1,5))\n",
        "          pic = slide.shapes.add_picture(img,left,top)\n",
        "          \n",
        "    prs.save(outputfile)"
      ],
      "execution_count": 6,
      "outputs": []
    },
    {
      "cell_type": "code",
      "metadata": {
        "id": "f6UZi8X2OvIk"
      },
      "source": [
        "def multiple_file_update(logo):\n",
        "    for file in os.listdir(os.getcwd()):\n",
        "        if file.endswith('.PPTX') or file.endswith('.pptx') or file.endswith('.PPT') or file.endswith('.ppt'):\n",
        "            open_pp_presentation(file,file,logo)\n"
      ],
      "execution_count": 7,
      "outputs": []
    },
    {
      "cell_type": "code",
      "metadata": {
        "id": "YP71mLWpOw4d"
      },
      "source": [
        "def resize_image(logo_input,width, height):\n",
        "    img = Image.open(logo_input)\n",
        "    img = img.resize((width,height),Image.LANCZOS)\n",
        "    img.save(logo_input)"
      ],
      "execution_count": 8,
      "outputs": []
    },
    {
      "cell_type": "code",
      "metadata": {
        "id": "yB19WW8oOycS"
      },
      "source": [
        "if __name__ == '__main__':\n",
        "    logo_input = input(' Please type the name of the image with extension which needs to be superimposed in the slide')\n",
        "    resize_ind = input('Do you want to resize the image before adding ? 1-Yes,2-No')\n",
        "    if int(resize_ind) == 1:\n",
        "        w = input('Please enter the width of image in pixels')\n",
        "        h = input('Please enter the height of image in pixels')\n",
        "        resize_image(logo_input, int(w), int(h))\n",
        "    multiple_file_update(logo_input)"
      ],
      "execution_count": null,
      "outputs": []
    }
  ]
}